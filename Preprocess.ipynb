{
 "cells": [
  {
   "cell_type": "code",
   "execution_count": 1,
   "id": "2af6606d-9294-4b36-9119-9f056f0a2eb1",
   "metadata": {},
   "outputs": [
    {
     "name": "stderr",
     "output_type": "stream",
     "text": [
      "ERROR 1: PROJ: proj_create_from_database: Open of /opt/conda/share/proj failed\n"
     ]
    }
   ],
   "source": [
    "import folium\n",
    "import requests\n",
    "import pandas as pd\n",
    "import geopandas as gpd\n",
    "from shapely.geometry import Point, LineString, Polygon"
   ]
  },
  {
   "cell_type": "code",
   "execution_count": 2,
   "id": "c195c312-ae07-4b46-a4ad-c7ace819fc0f",
   "metadata": {},
   "outputs": [],
   "source": [
    "import warnings\n",
    "warnings.filterwarnings(\"ignore\")"
   ]
  },
  {
   "cell_type": "markdown",
   "id": "87859e18-7e33-4673-8929-9405db935a9a",
   "metadata": {},
   "source": [
    "# Data Retrieving"
   ]
  },
  {
   "cell_type": "code",
   "execution_count": 3,
   "id": "e1fa418f-3224-4a68-ad3a-398837a64d7f",
   "metadata": {},
   "outputs": [],
   "source": [
    "# Retrieve user preferences\n",
    "user_preferences = {\n",
    "    'coffee_shops': True,\n",
    "    'bakery': True,\n",
    "    'vintage': True,\n",
    "    'library': True,\n",
    "    'tourism': True,\n",
    "    'nightlife': True,\n",
    "    'sports': True,\n",
    "    'theatre': True,\n",
    "    'restaurants': True\n",
    "}"
   ]
  },
  {
   "cell_type": "code",
   "execution_count": 4,
   "id": "063b8287-cabe-4bd5-87d2-1f8de70cdbf3",
   "metadata": {},
   "outputs": [],
   "source": [
    "def build_overpass_query(user_preferences):\n",
    "    query = \"[out:json];\\n\"\n",
    "    query += \"(\"\n",
    "    for interest, selected in user_preferences.items():\n",
    "        if selected:\n",
    "            if interest == 'coffee_shops':\n",
    "                query += f\"node[\\\"amenity\\\"=\\\"cafe\\\"](55.55, 12.45, 55.72, 12.70);\"\n",
    "            elif interest == 'bakery':\n",
    "                query += f\"node[\\\"shop\\\"=\\\"bakery\\\"](55.55, 12.45, 55.72, 12.70);\"\n",
    "            elif interest == 'restaurants':\n",
    "                query += f\"node[\\\"amenity\\\"=\\\"restaurant\\\"](55.55, 12.45, 55.72, 12.70);\"\n",
    "            elif interest == 'vintage':\n",
    "                query += f\"node[\\\"shop\\\"=\\\"second_hand\\\"](55.55, 12.45, 55.72, 12.70);\"\n",
    "            elif interest == 'library':\n",
    "                query += f\"node[\\\"amenity\\\"=\\\"library\\\"](55.55, 12.45, 55.72, 12.70);\"\n",
    "            elif interest == 'tourism':\n",
    "                query += f\"node[\\\"tourism\\\"=\\\"museum\\\"](55.55, 12.45, 55.72, 12.70);\"\n",
    "                query += f\"node[\\\"tourism\\\"=\\\"attraction\\\"](55.55, 12.45, 55.72, 12.70);\"\n",
    "            elif interest == 'nightlife':\n",
    "                query += f\"node[\\\"amenity\\\"=\\\"pub\\\"](55.55, 12.45, 55.72, 12.70);\"\n",
    "                query += f\"node[\\\"amenity\\\"=\\\"nightclub\\\"](55.55, 12.45, 55.72, 12.70);\"\n",
    "                query += f\"node[\\\"amenity\\\"=\\\"bar\\\"](55.55, 12.45, 55.72, 12.70);\"     \n",
    "            elif interest == 'sports':\n",
    "                query += \"node[\\\"leisure\\\"=\\\"sports_centre\\\"](55.55, 12.45, 55.72, 12.70);\"\n",
    "            elif interest == 'theatre':\n",
    "                query += \"node[\\\"amenity\\\"=\\\"theatre\\\"](55.55, 12.45, 55.72, 12.70);\"\n",
    "                \n",
    "                          \n",
    "    query += \");\\n\"\n",
    "    query += \"(._;>;);\\n\"\n",
    "    query += \"out;\"\n",
    "    #print(query)\n",
    "    return query"
   ]
  },
  {
   "cell_type": "code",
   "execution_count": 5,
   "id": "51c75cfe-e5e9-4c03-a51d-86bd4d154280",
   "metadata": {},
   "outputs": [],
   "source": [
    "def get_data_from_overpass(query):\n",
    "    # Send the query to Overpass API\n",
    "    response = requests.get(\"http://overpass-api.de/api/interpreter\", params={\"data\": query})\n",
    "    data = response.json()\n",
    "    return data\n",
    "\n",
    "def create_geopandas_dataframe(data):\n",
    "    features = []\n",
    "    all_tags = set()  # Keep track of all unique tag keys\n",
    "    for element in data['elements']:\n",
    "        if 'lat' in element and 'lon' in element:\n",
    "            feature = {\n",
    "                'geometry': Point(element['lon'], element['lat'])\n",
    "            }\n",
    "            for key, value in element['tags'].items():\n",
    "                feature[key] = value\n",
    "                all_tags.add(key)\n",
    "            features.append(feature)\n",
    "    # Create a GeoPandas DataFrame\n",
    "    gdf = gpd.GeoDataFrame(features, geometry='geometry',crs=\"EPSG:4326\")\n",
    "    \n",
    "    # Create a column for each unique tag key and populate it with the corresponding value\n",
    "    for tag_key in all_tags:\n",
    "        values = [feature.get(tag_key) for feature in features]\n",
    "        gdf[tag_key] = values\n",
    "    return gdf"
   ]
  },
  {
   "cell_type": "code",
   "execution_count": 7,
   "id": "c421e0c1-fc36-47e0-aea5-865d095f79b2",
   "metadata": {},
   "outputs": [],
   "source": [
    "# Build Overpass query\n",
    "overpass_query = build_overpass_query(user_preferences)\n",
    "for preference, value in user_preferences.items():\n",
    "    overpass_query = build_overpass_query({preference:value})\n",
    "    data = get_data_from_overpass(overpass_query)\n",
    "    gdf = create_geopandas_dataframe(data)\n",
    "    # Save GeoDataFrame to GeoJSON file\n",
    "    gdf.to_file(f\"data/{preference}.geojson\", driver='GeoJSON')"
   ]
  },
  {
   "cell_type": "markdown",
   "id": "0d532096-497b-4f06-a164-dcefa72641c0",
   "metadata": {},
   "source": [
    "### Amenity"
   ]
  },
  {
   "cell_type": "code",
   "execution_count": 8,
   "id": "1eba6931-33fa-4189-b6ac-47a2a20ef088",
   "metadata": {},
   "outputs": [],
   "source": [
    "coffee_shops_gdf = gpd.read_file(\"data/coffee_shops.geojson\")\n",
    "library_gdf = gpd.read_file(\"data/library.geojson\")\n",
    "restaurants_gdf = gpd.read_file(\"data/restaurants.geojson\")\n",
    "nightlife_gdf = gpd.read_file(\"data/nightlife.geojson\")\n",
    "theatre_gdf = gpd.read_file(\"data/theatre.geojson\")"
   ]
  },
  {
   "cell_type": "markdown",
   "id": "db7a995e-fcd7-4586-9be9-e039636c6add",
   "metadata": {},
   "source": [
    "### Shops"
   ]
  },
  {
   "cell_type": "code",
   "execution_count": 9,
   "id": "0762e3ac-7469-44c4-9c0c-68c93c4cebdd",
   "metadata": {},
   "outputs": [],
   "source": [
    "vintage_gdf = gpd.read_file(\"data/vintage.geojson\")\n",
    "bakery_gdf = gpd.read_file(\"data/bakery.geojson\")"
   ]
  },
  {
   "cell_type": "markdown",
   "id": "f980a334-1518-4f23-b1fb-116fc6b46d28",
   "metadata": {},
   "source": [
    "### Tourism"
   ]
  },
  {
   "cell_type": "code",
   "execution_count": 10,
   "id": "6539c515-33ab-4b1f-b117-48a75e80f194",
   "metadata": {},
   "outputs": [],
   "source": [
    "tourism_gdf = gpd.read_file(\"data/tourism.geojson\")"
   ]
  },
  {
   "cell_type": "markdown",
   "id": "efd04fd9-f619-45c8-a40e-e0caf96f135e",
   "metadata": {},
   "source": [
    "### Leisure"
   ]
  },
  {
   "cell_type": "code",
   "execution_count": 11,
   "id": "e02925fb-b260-45b3-90b7-e5fa4c9e93d3",
   "metadata": {},
   "outputs": [],
   "source": [
    "sports_gdf = gpd.read_file(\"data/sports.geojson\")"
   ]
  },
  {
   "cell_type": "markdown",
   "id": "e8ff5392-8d88-4ead-a424-95c631e576a1",
   "metadata": {},
   "source": [
    "# Data Cleaning"
   ]
  },
  {
   "cell_type": "code",
   "execution_count": 12,
   "id": "c9d454b8-248e-43d2-837d-ca260a3e4240",
   "metadata": {},
   "outputs": [],
   "source": [
    "sports_gdf_n = sports_gdf[['leisure','name', 'website', 'phone', 'opening_hours', 'wheelchair']]\n",
    "sports_gdf_n['cuisine'] = None\n",
    "sports_gdf_n['diet:vegan'] = None\n",
    "sports_gdf_n['diet:vegetarian'] = None\n",
    "sports_gdf_n['geometry'] =  sports_gdf['geometry'].copy()\n",
    "sports_gdf_n.rename(columns={'leisure': 'interest'}, inplace=True)\n",
    "#sports_gdf_n"
   ]
  },
  {
   "cell_type": "code",
   "execution_count": 13,
   "id": "fb04f6d7-7f20-43ee-95c8-dd524b8e1049",
   "metadata": {},
   "outputs": [],
   "source": [
    "coffee_shops_gdf_n = coffee_shops_gdf[['amenity','name', 'website', 'phone', 'opening_hours', 'wheelchair' ,'cuisine', 'diet:vegan', 'diet:vegetarian', 'geometry']]\n",
    "#coffee_shops_gdf_n.head()"
   ]
  },
  {
   "cell_type": "code",
   "execution_count": 14,
   "id": "00a92389-53ec-47db-81bb-97ceb9f6b0d1",
   "metadata": {},
   "outputs": [],
   "source": [
    "restaurants_gdf_n = restaurants_gdf[['amenity','name', 'website', 'phone', 'opening_hours', 'wheelchair','cuisine', 'diet:vegan', 'diet:vegetarian', 'geometry']]\n",
    "#restaurants_gdf_n"
   ]
  },
  {
   "cell_type": "code",
   "execution_count": 15,
   "id": "8532ad73-f69d-4a2a-a0b2-6febf6e97a85",
   "metadata": {},
   "outputs": [],
   "source": [
    "nightlife_gdf_n = nightlife_gdf[['amenity','name', 'website', 'phone', 'opening_hours', 'wheelchair','cuisine', 'diet:vegan', 'diet:vegetarian', 'geometry']]\n",
    "#nightlife_gdf_n"
   ]
  },
  {
   "cell_type": "code",
   "execution_count": 16,
   "id": "cda64146-de82-4c44-b108-1b0ed5697b77",
   "metadata": {},
   "outputs": [],
   "source": [
    "theatre_gdf_n = theatre_gdf[['amenity','name', 'website', 'phone', 'opening_hours', 'wheelchair']]\n",
    "theatre_gdf_n['cuisine'] = None\n",
    "theatre_gdf_n['diet:vegan'] = None\n",
    "theatre_gdf_n['diet:vegetarian'] = None\n",
    "theatre_gdf_n['geometry'] = theatre_gdf['geometry'].copy()\n",
    "#theatre_gdf_n"
   ]
  },
  {
   "cell_type": "code",
   "execution_count": 17,
   "id": "d1ee1bc9-b606-481e-b298-29206e0d8a9c",
   "metadata": {},
   "outputs": [],
   "source": [
    "library_gdf_n = library_gdf[['amenity','name', 'website', 'phone', 'opening_hours', 'wheelchair']]\n",
    "library_gdf_n['cuisine'] = None\n",
    "library_gdf_n['diet:vegan'] = None\n",
    "library_gdf_n['diet:vegetarian'] = None\n",
    "library_gdf_n['geometry'] = library_gdf['geometry'].copy()\n",
    "#library_gdf_n"
   ]
  },
  {
   "cell_type": "code",
   "execution_count": 18,
   "id": "9200a067-bf3f-4735-8431-846f7663c1a4",
   "metadata": {},
   "outputs": [],
   "source": [
    "dfs = [theatre_gdf_n, coffee_shops_gdf_n, library_gdf_n, nightlife_gdf_n, restaurants_gdf_n]  # List of DataFrames to concatenate\n",
    "\n",
    "# Concatenate all the amenities\n",
    "amenity_df = pd.concat(dfs, axis=0, ignore_index=True)\n",
    "amenity_df.rename(columns={'amenity': 'interest'}, inplace=True)"
   ]
  },
  {
   "cell_type": "code",
   "execution_count": 19,
   "id": "efe3a290-ba7f-40fd-b376-a239e2d70ad8",
   "metadata": {},
   "outputs": [],
   "source": [
    "#amenity_df"
   ]
  },
  {
   "cell_type": "code",
   "execution_count": 20,
   "id": "304eb6a2-f713-4522-8cb3-6e035e2ad7ee",
   "metadata": {},
   "outputs": [],
   "source": [
    "# Cleaning tourism gdf\n",
    "# Add new columns with None values to the tourism_gdf\n",
    "new_columns = ['cuisine', 'diet:vegan', 'diet:vegetarian']\n",
    "for column in new_columns:\n",
    "    tourism_gdf[column] = None\n",
    "\n",
    "columns_to_keep = ['tourism','name', 'website','phone','opening_hours','wheelchair', 'cuisine', 'diet:vegan','diet:vegetarian','geometry']\n",
    "tourism_gdf = tourism_gdf[columns_to_keep]\n",
    "tourism_gdf = tourism_gdf.rename(columns={\"tourism\": \"interest\"})\n",
    "\n",
    "#tourism_gdf.head()"
   ]
  },
  {
   "cell_type": "code",
   "execution_count": 21,
   "id": "5fc8910b-9774-4968-9df1-1021a4d3db29",
   "metadata": {},
   "outputs": [],
   "source": [
    "# Cleaning the shop categories: bakery_gdf and vintage_gdf\n",
    "# Define the columns to keep in the shops\n",
    "columns_to_keep_shop = ['shop','name', 'website','phone','opening_hours','wheelchair', 'cuisine', 'diet:vegan','diet:vegetarian','geometry']\n",
    "\n",
    "# Select only the specified columns\n",
    "bakery_gdf = bakery_gdf[columns_to_keep_shop]\n",
    "#bakery_gdf.head()"
   ]
  },
  {
   "cell_type": "code",
   "execution_count": 22,
   "id": "a7d4dbbe-0a3b-4a4b-869a-d82aaca41049",
   "metadata": {},
   "outputs": [],
   "source": [
    "# Add new columns with None values to the vintage_gdf\n",
    "new_columns = ['diet:vegan', 'diet:vegetarian']\n",
    "for column in new_columns:\n",
    "    vintage_gdf[column] = None\n",
    "\n",
    "# Select only the specified columns\n",
    "vintage_gdf = vintage_gdf[columns_to_keep_shop]\n",
    "#vintage_gdf.head()"
   ]
  },
  {
   "cell_type": "code",
   "execution_count": 23,
   "id": "bca33502-5ac1-4ef3-bb03-d1bd97808924",
   "metadata": {},
   "outputs": [],
   "source": [
    "# Merging shop categories\n",
    "shops_gdf = bakery_gdf.append(vintage_gdf, ignore_index=True)\n",
    "shops_gdf = shops_gdf.rename(columns={\"shop\": \"interest\"})"
   ]
  },
  {
   "cell_type": "code",
   "execution_count": 24,
   "id": "1adffeb4-ab74-4213-a108-ddb3720acb18",
   "metadata": {},
   "outputs": [],
   "source": [
    "# Merging all the data\n",
    "dfs1 = [amenity_df, sports_gdf_n, shops_gdf, tourism_gdf]  # List of DataFrames to concatenate\n",
    "\n",
    "# Concatenate all the amenities\n",
    "cleaned = pd.concat(dfs1, axis=0, ignore_index=True)"
   ]
  },
  {
   "cell_type": "code",
   "execution_count": 25,
   "id": "b136b92c-ae0e-4a92-8bfe-70db93273032",
   "metadata": {},
   "outputs": [],
   "source": [
    "cleaned_gdf = gpd.GeoDataFrame(cleaned, geometry='geometry')\n",
    "cleaned_gdf.to_file(\"data/cleaned_data.geojson\", driver='GeoJSON')"
   ]
  },
  {
   "cell_type": "code",
   "execution_count": 27,
   "id": "0c31ebd1-d018-4cc0-acfc-9cd4376179a6",
   "metadata": {},
   "outputs": [
    {
     "data": {
      "text/plain": [
       "Index(['interest', 'name', 'website', 'phone', 'opening_hours', 'wheelchair',\n",
       "       'cuisine', 'diet:vegan', 'diet:vegetarian', 'geometry'],\n",
       "      dtype='object')"
      ]
     },
     "execution_count": 27,
     "metadata": {},
     "output_type": "execute_result"
    }
   ],
   "source": [
    "cleaned_gdf.columns"
   ]
  },
  {
   "cell_type": "code",
   "execution_count": 28,
   "id": "356a2983-caab-4d59-8bbb-6974cbfd87d0",
   "metadata": {},
   "outputs": [
    {
     "data": {
      "text/plain": [
       "array(['theatre', 'cafe', 'library', 'pub', 'bar', 'nightclub',\n",
       "       'restaurant', 'sports_centre', 'bakery', 'second_hand', 'museum',\n",
       "       'attraction'], dtype=object)"
      ]
     },
     "execution_count": 28,
     "metadata": {},
     "output_type": "execute_result"
    }
   ],
   "source": [
    "cleaned_gdf['interest'].unique()"
   ]
  },
  {
   "cell_type": "code",
   "execution_count": 29,
   "id": "f49118b9-a12a-4d45-9328-cac77017385f",
   "metadata": {},
   "outputs": [
    {
     "data": {
      "text/plain": [
       "(2762, 10)"
      ]
     },
     "execution_count": 29,
     "metadata": {},
     "output_type": "execute_result"
    }
   ],
   "source": [
    "cleaned_gdf.shape"
   ]
  }
 ],
 "metadata": {
  "kernelspec": {
   "display_name": "Python 3 (ipykernel)",
   "language": "python",
   "name": "python3"
  },
  "language_info": {
   "codemirror_mode": {
    "name": "ipython",
    "version": 3
   },
   "file_extension": ".py",
   "mimetype": "text/x-python",
   "name": "python",
   "nbconvert_exporter": "python",
   "pygments_lexer": "ipython3",
   "version": "3.9.12"
  }
 },
 "nbformat": 4,
 "nbformat_minor": 5
}
